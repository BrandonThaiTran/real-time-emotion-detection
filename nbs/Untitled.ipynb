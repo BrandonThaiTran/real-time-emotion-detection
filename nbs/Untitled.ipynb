{
 "cells": [
  {
   "cell_type": "code",
   "execution_count": null,
   "id": "e788523c-1383-4fd5-a9f0-f6eb382bba95",
   "metadata": {},
   "outputs": [],
   "source": [
    "# opencv 4.1.2 to read images\n",
    "import cv2\n",
    "\n",
    "# used for accessing url to download files\n",
    "import urllib.request as urlreq\n",
    "\n",
    "# used to access local directory\n",
    "import os\n",
    "\n",
    "# used to plot our images\n",
    "import matplotlib.pyplot as plt\n",
    "\n",
    "# used to change image size\n",
    "from pylab import rcParams"
   ]
  },
  {
   "cell_type": "code",
   "execution_count": null,
   "id": "cbc98496-8517-4df9-a3d2-050302ce4bd6",
   "metadata": {},
   "outputs": [],
   "source": [
    "\n",
    "# save picture's url in pics_url variable\n",
    "pics_url = \"https://media.glamour.com/photos/5d9cc18b617c7b0009d5cc7d/master/w_2560%2Cc_limit/0910-bigbtyMillie_l_s_r.jpg\"\n",
    "# save picture's name as pic\n",
    "pic = \"image.jpg\"\n",
    "\n",
    "# download picture from url and save locally as image.jpg\n",
    "urlreq.urlretrieve(pics_url, pic)\n",
    "\n",
    "# read image with openCV\n",
    "image = cv2.imread(pic)\n",
    "\n",
    "# plot image with matplotlib package\n",
    "plt.imshow(image)"
   ]
  },
  {
   "cell_type": "code",
   "execution_count": null,
   "id": "b22b2d73-1f75-4ec4-a4c8-8a6b2e173143",
   "metadata": {},
   "outputs": [],
   "source": [
    "# convert image to RGB colour\n",
    "image_rgb = cv2.cvtColor(image, cv2.COLOR_BGR2RGB)\n",
    "\n",
    "# plot image with matplotlib package\n",
    "plt.imshow(image_rgb)\n",
    "\n",
    "# set dimension for cropping image\n",
    "x, y, width, depth = 50, 200, 950, 500\n",
    "image_cropped = image_rgb[y:(y+depth), x:(x+width)]\n",
    "\n",
    "# create a copy of the cropped image to be used later\n",
    "image_template = image_cropped.copy()\n",
    "\n",
    "# convert image to Grayscale\n",
    "image_gray = cv2.cvtColor(image_cropped, cv2.COLOR_BGR2GRAY)\n",
    "\n",
    "# remove axes and show image\n",
    "plt.axis(\"off\")\n",
    "plt.imshow(image_gray, cmap = \"gray\")"
   ]
  },
  {
   "cell_type": "code",
   "execution_count": null,
   "id": "a6df3fd8-01b4-4808-aded-1b7c801df22d",
   "metadata": {},
   "outputs": [],
   "source": []
  }
 ],
 "metadata": {
  "kernelspec": {
   "display_name": "Python 3",
   "language": "python",
   "name": "python3"
  },
  "language_info": {
   "codemirror_mode": {
    "name": "ipython",
    "version": 3
   },
   "file_extension": ".py",
   "mimetype": "text/x-python",
   "name": "python",
   "nbconvert_exporter": "python",
   "pygments_lexer": "ipython3",
   "version": "3.8.6"
  }
 },
 "nbformat": 4,
 "nbformat_minor": 5
}
