{
 "cells": [
  {
   "cell_type": "code",
   "execution_count": 1,
   "id": "a6df3fd8-01b4-4808-aded-1b7c801df22d",
   "metadata": {},
   "outputs": [],
   "source": [
    "# opencv 4.1.2 to read images\n",
    "import cv2\n",
    "\n",
    "# used for accessing url to download files\n",
    "import urllib.request as urlreq\n",
    "\n",
    "# used to access local directory\n",
    "import os\n",
    "\n",
    "# used to plot our images\n",
    "import matplotlib.pyplot as plt\n",
    "\n",
    "# used to change image size\n",
    "from pylab import rcParams"
   ]
  },
  {
   "cell_type": "code",
   "execution_count": 2,
   "id": "f6e53a98-6917-4d3b-aaf9-c7060ee28f74",
   "metadata": {},
   "outputs": [],
   "source": [
    "# define a video capture object\n",
    "vid = cv2.VideoCapture(0)"
   ]
  },
  {
   "cell_type": "code",
   "execution_count": 3,
   "id": "82868de0-2c6b-441f-92c0-92230fd76fdc",
   "metadata": {},
   "outputs": [
    {
     "name": "stdout",
     "output_type": "stream",
     "text": [
      "File exists\n"
     ]
    }
   ],
   "source": [
    "# save face detection algorithm's url in haarcascade_url variable\n",
    "haarcascade_url = \"https://raw.githubusercontent.com/opencv/opencv/master/data/haarcascades/haarcascade_frontalface_alt2.xml\"\n",
    "\n",
    "# save face detection algorithm's name as haarcascade\n",
    "haarcascade = \"haarcascade_frontalface_alt2.xml\"\n",
    "\n",
    "# chech if file is in working directory\n",
    "if (haarcascade in os.listdir(os.curdir)):\n",
    "    print(\"File exists\")\n",
    "else:\n",
    "    # download file from url and save locally as haarcascade_frontalface_alt2.xml, < 1MB\n",
    "    urlreq.urlretrieve(haarcascade_url, haarcascade)\n",
    "    print(\"File downloaded\")\n",
    "\n",
    "# create an instance of the Face Detection Cascade Classifier\n",
    "detector = cv2.CascadeClassifier(haarcascade)"
   ]
  },
  {
   "cell_type": "code",
   "execution_count": 4,
   "id": "c229d2b7-d150-492a-9a6f-15f15cc6fff6",
   "metadata": {},
   "outputs": [
    {
     "name": "stdout",
     "output_type": "stream",
     "text": [
      "File exists\n"
     ]
    }
   ],
   "source": [
    "# save facial landmark detection model's url in LBFmodel_url variable\n",
    "LBFmodel_url = \"https://github.com/kurnianggoro/GSOC2017/raw/master/data/lbfmodel.yaml\"\n",
    "\n",
    "# save facial landmark detection model's name as LBFmodel\n",
    "LBFmodel = \"lbfmodel.yaml\"\n",
    "\n",
    "# check if file is in working directory\n",
    "if (LBFmodel in os.listdir(os.curdir)):\n",
    "    print(\"File exists\")\n",
    "else:\n",
    "    # download picture from url and save locally as lbfmodel.yaml, < 54MB\n",
    "    urlreq.urlretrieve(LBFmodel_url, LBFmodel)\n",
    "    print(\"File downloaded\")\n",
    "\n",
    "# create an instance of the Facial landmark Detector with the model\n",
    "landmark_detector  = cv2.face.createFacemarkLBF()\n",
    "landmark_detector.loadModel(LBFmodel)"
   ]
  },
  {
   "cell_type": "code",
   "execution_count": 5,
   "id": "8e5d1f9b-f8df-44e0-b2ea-af61f530b99a",
   "metadata": {},
   "outputs": [],
   "source": [
    "def draw_frame(frame, show_box = True, show_marks = True):\n",
    "    # change to gray\n",
    "    frame_gray = cv2.cvtColor(frame, cv2.COLOR_BGR2GRAY)\n",
    "    # find faces\n",
    "    faces = detector.detectMultiScale(frame_gray)\n",
    "    \n",
    "    if show_box:\n",
    "        for face in faces:\n",
    "            # save the coordinates in x, y, w, d variables\n",
    "            (x,y,w,d) = face\n",
    "            # Draw a white coloured rectangle around each face using the face's coordinates\n",
    "            # on the \"image_template\" with the thickness of 2\n",
    "            cv2.rectangle(frame,(x,y),(x+w, y+d),(255, 255, 255), 2)\n",
    "        \n",
    "    # Detect landmarks on \"image_gray\"\n",
    "    _, landmarks = landmark_detector.fit(frame_gray, faces)\n",
    "    \n",
    "    if show_marks:\n",
    "        for landmark in landmarks:\n",
    "            for x,y in landmark[0]:\n",
    "                x = int(x)\n",
    "                y = int(y)\n",
    "                # display landmarks on \"image_cropped\"\n",
    "                # with white colour in BGR and thickness 1\n",
    "                cv2.circle(frame, (x, y), 1, (0, 0, 255), 1)\n",
    "                \n",
    "    return frame, faces, show_marks"
   ]
  },
  {
   "cell_type": "code",
   "execution_count": 6,
   "id": "4f8bd9e4-e496-4d06-a84c-445a66031485",
   "metadata": {},
   "outputs": [],
   "source": [
    "while(True):\n",
    "      \n",
    "    # Capture the video frame\n",
    "    # by frame\n",
    "    ret, frame = vid.read()\n",
    "    \n",
    "    # Make gray\n",
    "    marked_frame, faces, show_marks = draw_frame(frame)\n",
    "  \n",
    "    # Display the resulting frame\n",
    "    cv2.imshow('frame', marked_frame)\n",
    "      \n",
    "    # the 'q' button is set as the\n",
    "    # quitting button you may use any\n",
    "    # desired button of your choice\n",
    "    if cv2.waitKey(1) & 0xFF == ord('q'):\n",
    "        # After the loop release the cap object\n",
    "        vid.release()\n",
    "        # Destroy all the windows\n",
    "        cv2.destroyAllWindows()\n",
    "        break"
   ]
  },
  {
   "cell_type": "code",
   "execution_count": null,
   "id": "ee196aed-e451-47fe-acb3-207d2621ae68",
   "metadata": {},
   "outputs": [],
   "source": [
    "def draw_frame(frame, show_box = True, show_marks = True):\n",
    "    # change to gray\n",
    "    frame_gray = cv2.cvtColor(frame, cv2.COLOR_BGR2GRAY)\n",
    "    # find faces\n",
    "    faces = detector.detectMultiScale(frame_gray)\n",
    "    \n",
    "    if show_box:\n",
    "        for face in faces:\n",
    "            # save the coordinates in x, y, w, d variables\n",
    "            (x,y,w,d) = face\n",
    "            # Draw a white coloured rectangle around each face using the face's coordinates\n",
    "            # on the \"image_template\" with the thickness of 2\n",
    "            cv2.rectangle(frame,(x,y),(x+w, y+d),(255, 255, 255), 2)\n",
    "        \n",
    "    # Detect landmarks on \"image_gray\"\n",
    "    _, landmarks = landmark_detector.fit(frame_gray, faces)\n",
    "    \n",
    "    if show_marks:\n",
    "        for landmark in landmarks:\n",
    "            for x,y in landmark[0]:\n",
    "                x = int(x)\n",
    "                y = int(y)\n",
    "                # display landmarks on \"image_cropped\"\n",
    "                # with white colour in BGR and thickness 1\n",
    "                cv2.circle(frame, (x, y), 1, (0, 0, 255), 1)\n",
    "                \n",
    "    return frame, faces, show_marks"
   ]
  }
 ],
 "metadata": {
  "kernelspec": {
   "display_name": "Python 3",
   "language": "python",
   "name": "python3"
  },
  "language_info": {
   "codemirror_mode": {
    "name": "ipython",
    "version": 3
   },
   "file_extension": ".py",
   "mimetype": "text/x-python",
   "name": "python",
   "nbconvert_exporter": "python",
   "pygments_lexer": "ipython3",
   "version": "3.9.5"
  }
 },
 "nbformat": 4,
 "nbformat_minor": 5
}
